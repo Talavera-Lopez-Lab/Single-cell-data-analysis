{
 "cells": [
  {
   "cell_type": "code",
   "execution_count": null,
   "metadata": {},
   "outputs": [],
   "source": [
    "#All the following script and comments have been made in accordance to Merged heart data##\n",
    "\n",
    "#Importing packages # Make sure that you activate correct environment \n",
    "import pandas as pd\n",
    "import scanpy as sc\n",
    "import numpy as np\n",
    "import os\n",
    "from matplotlib import pyplot as plt\n",
    "import seaborn as sns\n",
    "from matplotlib import pyplot as plt\n",
    "from scipy.sparse import csr_matrix, issparse\n",
    "\n",
    "#Setting up to avoid kernel crashes\n",
    "os.environ['PYDEVD_DISABLE_FILE_VALIDATION'] = '1'\n",
    "\n",
    "\n",
    "sc.settings.verbosity = 3  # verbosity: errors (0), warnings (1), info (2), hints (3)\n",
    "sc.logging.print_header()\n",
    "sc.settings.set_figure_params(dpi=80, facecolor=\"white\")\n",
    "\n",
    "#writing output file\n",
    "results_file = \"./outputs/trail/clean_data_scanpy.h5ad\""
   ]
  },
  {
   "cell_type": "code",
   "execution_count": null,
   "metadata": {},
   "outputs": [],
   "source": [
    "#Reading the h5ad file\n",
    "clean_data = sc.read_h5ad(\"/Users/srivalli/Desktop/SCA-Uni/Single-cell-data-analysis/Cardiac_cell_analysis/outputs/merged_heart.h5ad\")\n",
    "clean_data"
   ]
  },
  {
   "cell_type": "code",
   "execution_count": null,
   "metadata": {},
   "outputs": [],
   "source": [
    "# Identify duplicated cells based on their annotation information\n",
    "duplicated_cell_names = clean_data.obs.index[clean_data.obs.duplicated()]\n",
    "\n",
    "# Print the names of duplicated cells\n",
    "print(\"Duplicated cell names:\")\n",
    "print(duplicated_cell_names)\n",
    "\n",
    "# Identify duplicated cells based on their annotation information\n",
    "duplicated_cells = clean_data.obs.duplicated()\n",
    "\n",
    "# Filter out duplicated cells\n",
    "clean_data = clean_data[~duplicated_cells, :]\n",
    "\n",
    "# Check the size of the dataset before and after deduplication\n",
    "print(\"Size before deduplication:\", clean_data.shape)\n",
    "\n",
    "# Remove any cells with zero genes after deduplication (optional)\n",
    "clean_data = clean_data[clean_data.obs.n_genes_by_counts > 0, :]\n",
    "\n",
    "# Check the size of the dataset after removing cells with zero genes\n",
    "print(\"Size after deduplication:\", clean_data.shape)"
   ]
  },
  {
   "cell_type": "code",
   "execution_count": null,
   "metadata": {},
   "outputs": [],
   "source": [
    "#PREPROCESSING#\n",
    "\n",
    "#Making var names unique\n",
    "clean_data.var_names_make_unique()\n",
    "\n",
    "#Viewing genes that contributes the largest portion in a cell\n",
    "highest_expr_genes = sc.pl.highest_expr_genes(clean_data)"
   ]
  },
  {
   "cell_type": "code",
   "execution_count": null,
   "metadata": {},
   "outputs": [],
   "source": [
    "sc.pl.violin(clean_data,[\"n_genes_by_counts\", \"total_counts\", \"pct_counts_mt\"],jitter=0.4,multi_panel=True)"
   ]
  },
  {
   "cell_type": "code",
   "execution_count": null,
   "metadata": {},
   "outputs": [],
   "source": [
    "#Scatter plots\n",
    "sc.pl.scatter(clean_data, x=\"total_counts\", y=\"pct_counts_mt\")\n",
    "sc.pl.scatter(clean_data, x=\"total_counts\", y=\"n_genes_by_counts\")"
   ]
  },
  {
   "cell_type": "code",
   "execution_count": null,
   "metadata": {},
   "outputs": [],
   "source": [
    "#Filtering genes and cells \n",
    "sc.pp.filter_cells(clean_data, min_genes=200)\n",
    "sc.pp.filter_genes(clean_data, min_cells=20)\n",
    "\n",
    "#Above filtering considers only cells having min 200 genes as a primary criteria and filters the genes which are found in minimum of 20 cells\n",
    "#CAN BE MODIFIED"
   ]
  },
  {
   "cell_type": "code",
   "execution_count": null,
   "metadata": {},
   "outputs": [],
   "source": [
    "#Normalization using Pearson\n",
    "analytic_pearson = sc.experimental.pp.normalize_pearson_residuals(clean_data)\n",
    "\n",
    "#Normalizing data matrix using CPM\n",
    "sc.pp.normalize_total(clean_data,target_sum=1e6)\n",
    "\n",
    "#Logarithmization of data\n",
    "sc.pp.log1p(clean_data,base=2)\n",
    "\n",
    "#Adding to layers\n",
    "clean_data.layers['normalized_log1p'] = clean_data.X.copy()\n",
    "clean_data.layers[\"analytic_pearson_residuals\"] = csr_matrix(analytic_pearson[\"X\"])\n",
    "\n",
    "#Plotting\n",
    "fig, axes = plt.subplots(1, 2, figsize=(10, 5))\n",
    "p1 = sns.histplot(clean_data.obs[\"total_counts\"], bins=100, kde=False, ax=axes[0])\n",
    "axes[0].set_title(\"Total counts\")\n",
    "p2 = sns.histplot(\n",
    "    clean_data.layers[\"analytic_pearson_residuals\"].sum(1), bins=100, kde=False, ax=axes[1]\n",
    ")\n",
    "axes[1].set_title(\"Analytic Pearson residuals\")\n",
    "plt.show()"
   ]
  },
  {
   "cell_type": "code",
   "execution_count": null,
   "metadata": {},
   "outputs": [],
   "source": [
    "#Calculating dispersion of highly variable genes\n",
    "sc.pp.highly_variable_genes(clean_data, layer=\"scran_normalization\")\n",
    "\n",
    "#Identifying high variable genes satisfying conditions\n",
    "sc.pp.highly_variable_genes(clean_data, min_mean=0.0125, max_mean=3, min_disp=0.5)\n",
    "clean_data = sc.pl.highly_variable_genes(clean_data)"
   ]
  },
  {
   "cell_type": "code",
   "execution_count": null,
   "metadata": {},
   "outputs": [],
   "source": [
    "#Writing file\n",
    "clean_data.write(\"heart_normalized.h5ad\")"
   ]
  },
  {
   "cell_type": "code",
   "execution_count": null,
   "metadata": {},
   "outputs": [],
   "source": [
    "##PRINCIPAL COMPONENT ANALYSIS##\n",
    "\n",
    "#Reducing dimensions\n",
    "sc.tl.pca(clean_data, svd_solver=\"arpack\")\n",
    "\n",
    "#To view the principal components\n",
    "clean_data.obsm['X_pca']\n",
    "\n",
    "#Scatter plot for PCA components for visualization \n",
    "sc.pl.pca(clean_data)"
   ]
  },
  {
   "cell_type": "code",
   "execution_count": null,
   "metadata": {},
   "outputs": [],
   "source": [
    "#Scatter plot for PCA components for visualization based on coloring of genes\n",
    "#sc.pl.pca(clean_data,color= \"NKG7\")\n",
    "\n",
    "#FIND A GENE"
   ]
  },
  {
   "cell_type": "code",
   "execution_count": null,
   "metadata": {},
   "outputs": [],
   "source": [
    "#Number of PCs to be considered for the data\n",
    "sc.tl.tsne(clean_data)\n",
    "\n",
    "#To know the values and count of Principal components\n",
    "clean_data.obsm['X_pca']"
   ]
  },
  {
   "cell_type": "code",
   "execution_count": null,
   "metadata": {},
   "outputs": [],
   "source": [
    "ensg = clean_data.var_names\n",
    "\n",
    "# Combine the current working directory with the file name\n",
    "file_name = \"ensembl_gene_ids.txt\"\n",
    "file_path = os.path.join(\"./outputs/trail/\", file_name)\n",
    "\n",
    "\n",
    "with open(file_path, 'w') as file:\n",
    "    for ensgid in ensg:\n",
    "        file.write(ensgid + '\\n')"
   ]
  },
  {
   "cell_type": "code",
   "execution_count": null,
   "metadata": {},
   "outputs": [],
   "source": [
    "#Estimates of Principal components contribution to the total variance of the data\n",
    "sc.pl.pca_variance_ratio(clean_data, log=True)\n",
    "\n",
    "#Saving results\n",
    "clean_data.write(results_file)\n",
    "clean_data"
   ]
  },
  {
   "cell_type": "code",
   "execution_count": null,
   "metadata": {},
   "outputs": [],
   "source": [
    "#COMPUTING NEIGHBOUIRHOOD GRAPH#\n",
    "\n",
    "#General method\n",
    "#sc.pp.neighbors(clean_data)\n",
    "#clean_data\n",
    "#Can add n_neighbors and n_pca parameters if we would like to consider making clusters based on given params#\n",
    "\n",
    "#NOT USING THIS"
   ]
  },
  {
   "cell_type": "code",
   "execution_count": null,
   "metadata": {},
   "outputs": [],
   "source": [
    "#Computing neighbors by bbknn - Batch balanced KNN\n",
    "\n",
    "bbknn_data = sc.external.pp.bbknn(clean_data)\n",
    "\n",
    "bbknn_data\n",
    "\n",
    "#We use bbknn only for our analysis"
   ]
  },
  {
   "cell_type": "code",
   "execution_count": null,
   "metadata": {},
   "outputs": [],
   "source": [
    "#EMBEDDING THE NEIGHBOURHOOD GRAPH\n",
    "\n",
    "#Assinging cells to clusters\n",
    "sc.tl.louvain(clean_data)\n",
    "\n",
    "#Partioning data and identifying relationships between clusters\n",
    "sc.tl.paga(clean_data)\n",
    "sc.pl.paga(clean_data)\n",
    "\n",
    "#Data visualization\n",
    "sc.tl.umap(clean_data)\n",
    "\n",
    "#Giving colour codes for better visulauization based on genes\n",
    "sc.pl.umap(clean_data, color=[\"louvain\"])"
   ]
  },
  {
   "cell_type": "code",
   "execution_count": null,
   "metadata": {},
   "outputs": [],
   "source": [
    "#Ranking genes using wilcoxon method\n",
    "sc.tl.rank_genes_groups(clean_data, \"louvain\", method=\"wilcoxon\")\n",
    "\n",
    "#Plotting \n",
    "sc.pl.rank_genes_groups(clean_data, n_genes=25, sharey=False)\n",
    "\n",
    "#Saving data\n",
    "clean_data.write(results_file)"
   ]
  },
  {
   "cell_type": "code",
   "execution_count": null,
   "metadata": {},
   "outputs": [],
   "source": [
    "#Using logistic regression\n",
    "sc.tl.rank_genes_groups(clean_data, \"louvain\", method=\"logreg\", max_iter=100)\n",
    "sc.pl.rank_genes_groups(clean_data, n_genes=25, sharey=False)"
   ]
  },
  {
   "cell_type": "code",
   "execution_count": null,
   "metadata": {},
   "outputs": [],
   "source": [
    "#To get list of gene names across clusters\n",
    "gene_clusters = pd.DataFrame(clean_data.uns[\"rank_genes_groups\"][\"names\"])\n",
    "\n",
    "gene_clusters.to_csv(\"./outputs/trail/gene_clusters.csv\")\n",
    "#Can add .head(10) at the end to give output of only 10 hits"
   ]
  },
  {
   "cell_type": "code",
   "execution_count": null,
   "metadata": {},
   "outputs": [],
   "source": [
    "#Getting table with scores and group\n",
    "clean_data = sc.read(results_file)\n",
    "result = clean_data.uns[\"rank_genes_groups\"]\n",
    "groups = result[\"names\"].dtype.names\n",
    "scores = pd.DataFrame(\n",
    "    {\n",
    "        group + \"_\" + key[:1]: result[key][group]\n",
    "        for group in groups\n",
    "        for key in [\"names\", \"pvals\"]\n",
    "    }\n",
    ")\n",
    "\n",
    "scores.to_csv(\"./outputs/trail/scores.csv\")\n",
    "#low p-value indicates that the gene is likely differentially expressed in that cluster compared to others"
   ]
  },
  {
   "cell_type": "code",
   "execution_count": null,
   "metadata": {},
   "outputs": [],
   "source": [
    "#Saving file\n",
    "clean_data.write(results_file)"
   ]
  }
 ],
 "metadata": {
  "kernelspec": {
   "display_name": "scanpy",
   "language": "python",
   "name": "python3"
  },
  "language_info": {
   "codemirror_mode": {
    "name": "ipython",
    "version": 3
   },
   "file_extension": ".py",
   "mimetype": "text/x-python",
   "name": "python",
   "nbconvert_exporter": "python",
   "pygments_lexer": "ipython3",
   "version": "3.12.2"
  }
 },
 "nbformat": 4,
 "nbformat_minor": 2
}
