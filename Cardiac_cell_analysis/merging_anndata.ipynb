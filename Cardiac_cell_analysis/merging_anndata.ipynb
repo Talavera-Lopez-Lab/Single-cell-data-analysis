{
 "cells": [
  {
   "cell_type": "code",
   "execution_count": null,
   "metadata": {},
   "outputs": [],
   "source": [
    "#Importing packages \n",
    "import numpy as np\n",
    "import pandas as pd\n",
    "import anndata as ad\n",
    "from scipy.sparse import csr_matrix"
   ]
  },
  {
   "cell_type": "code",
   "execution_count": null,
   "metadata": {},
   "outputs": [],
   "source": [
    "#Data loading\n",
    "\n",
    "version1 = ad.read_h5ad(\"./v1_raw.h5ad\")\n",
    "version2 = ad.read_h5ad(\"./v2_raw.h5ad\")"
   ]
  },
  {
   "cell_type": "code",
   "execution_count": null,
   "metadata": {},
   "outputs": [],
   "source": [
    "version1"
   ]
  },
  {
   "cell_type": "code",
   "execution_count": null,
   "metadata": {},
   "outputs": [],
   "source": [
    "version1.obs"
   ]
  },
  {
   "cell_type": "code",
   "execution_count": null,
   "metadata": {},
   "outputs": [],
   "source": [
    "version2"
   ]
  },
  {
   "cell_type": "code",
   "execution_count": null,
   "metadata": {},
   "outputs": [],
   "source": [
    "version2.obs"
   ]
  },
  {
   "cell_type": "code",
   "execution_count": null,
   "metadata": {},
   "outputs": [],
   "source": [
    "##CONCATENATING ##\n",
    "\n",
    "# Concatenate along the observations axis (axis=0)\n",
    "merged_obs = ad.concat([version1, version2], axis=0)\n",
    "\n",
    "# Concatenate along the variables axis (axis=1)\n",
    "merged_var = ad.concat([version1, version2], axis=1)\n",
    "\n",
    "#Merging obs and var\n",
    "merged_dataset = ad.concat([merged_obs,merged_var],join= 'outer')\n"
   ]
  },
  {
   "cell_type": "code",
   "execution_count": null,
   "metadata": {},
   "outputs": [],
   "source": [
    "merged_obs"
   ]
  },
  {
   "cell_type": "code",
   "execution_count": null,
   "metadata": {},
   "outputs": [],
   "source": [
    "merged_var"
   ]
  },
  {
   "cell_type": "code",
   "execution_count": null,
   "metadata": {},
   "outputs": [],
   "source": [
    "merged_dataset.obs"
   ]
  },
  {
   "cell_type": "code",
   "execution_count": null,
   "metadata": {},
   "outputs": [],
   "source": [
    "# Check for duplicate index names in observations\n",
    "duplicate_obs_names = merged_dataset.obs.index[merged_dataset.obs.index.duplicated()]\n",
    "print(\"Duplicate observation index names (cell barcodes):\", duplicate_obs_names)\n",
    "\n",
    "##As we dont have any duplicates, it is empty"
   ]
  },
  {
   "cell_type": "code",
   "execution_count": null,
   "metadata": {},
   "outputs": [],
   "source": [
    "# Check for duplicate index names in variables\n",
    "duplicate_var_names = merged_dataset.var.index[merged_dataset.var.index.duplicated()]\n",
    "print(\"Duplicate variable index names:\", duplicate_var_names)\n",
    "\n",
    "##As we dont have any duplicates, it is empty"
   ]
  },
  {
   "cell_type": "code",
   "execution_count": null,
   "metadata": {},
   "outputs": [],
   "source": [
    "# Rename the column from \"gender\" to \"sex\" in merged_dataset.obs\n",
    "merged_dataset.obs.rename(columns={'gender': 'sex'}, inplace=True)\n",
    "merged_dataset.obs"
   ]
  },
  {
   "cell_type": "code",
   "execution_count": null,
   "metadata": {},
   "outputs": [],
   "source": [
    "#DATA \n",
    "\n",
    "#Data logarithmization\n",
    "merged_dataset.layers[\"log_transformed\"] = np.log1p(merged_dataset.X)\n",
    "\n",
    "#Writing log data to file\n",
    "logdata = merged_dataset.to_df(layer=\"log_transformed\")"
   ]
  }
 ],
 "metadata": {
  "kernelspec": {
   "display_name": "anndata",
   "language": "python",
   "name": "python3"
  },
  "language_info": {
   "codemirror_mode": {
    "name": "ipython",
    "version": 3
   },
   "file_extension": ".py",
   "mimetype": "text/x-python",
   "name": "python",
   "nbconvert_exporter": "python",
   "pygments_lexer": "ipython3",
   "version": "3.12.2"
  }
 },
 "nbformat": 4,
 "nbformat_minor": 2
}
