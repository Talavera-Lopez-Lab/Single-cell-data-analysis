{
 "cells": [
  {
   "cell_type": "code",
   "execution_count": null,
   "metadata": {},
   "outputs": [],
   "source": [
    "#All the following script and comments have been made in accordance to Merged heart data##\n",
    "\n",
    "#Importing packages # Make sure that you activate correct environment \n",
    "import pandas as pd\n",
    "import scanpy as sc\n",
    "\n",
    "sc.settings.verbosity = 3  # verbosity: errors (0), warnings (1), info (2), hints (3)\n",
    "sc.logging.print_header()\n",
    "sc.settings.set_figure_params(dpi=80, facecolor=\"white\")\n",
    "\n",
    "#writing output file\n",
    "results_file = \"./outputs/heart_global_scanpy.h5ad\""
   ]
  },
  {
   "cell_type": "code",
   "execution_count": null,
   "metadata": {},
   "outputs": [],
   "source": [
    "#Reading the h5ad file\n",
    "heart_global = sc.read_h5ad(\"/Users/srivalli/Desktop/SCA-Uni/Single-cell-data-analysis/Cardiac_cell_analysis/outputs/merged_heart.h5ad\")\n",
    "heart_global"
   ]
  },
  {
   "cell_type": "code",
   "execution_count": null,
   "metadata": {},
   "outputs": [],
   "source": [
    "heart_global.obs"
   ]
  },
  {
   "cell_type": "code",
   "execution_count": null,
   "metadata": {},
   "outputs": [],
   "source": [
    "heart_global.var"
   ]
  },
  {
   "cell_type": "code",
   "execution_count": null,
   "metadata": {},
   "outputs": [],
   "source": [
    "heart_global.var_names_make_unique()"
   ]
  },
  {
   "cell_type": "code",
   "execution_count": null,
   "metadata": {},
   "outputs": [],
   "source": [
    "#PREPROCESSING#\n",
    "\n",
    "#Viewing genes that contributes the largest portion in a cell\n",
    "sc.pl.highest_expr_genes(heart_global)"
   ]
  },
  {
   "cell_type": "code",
   "execution_count": null,
   "metadata": {},
   "outputs": [],
   "source": [
    "#Filtering genes and cells\n",
    "sc.pp.filter_cells(heart_global, min_genes=200)\n",
    "sc.pp.filter_genes(heart_global, min_cells=3)\n",
    "\n",
    "#Above filtering considers only cells having min 200 genes as a primary criteria and filters the genes which are found in minimum of 3 cells"
   ]
  },
  {
   "cell_type": "code",
   "execution_count": null,
   "metadata": {},
   "outputs": [],
   "source": [
    "sc.pl.violin(heart_global,[\"n_genes_by_counts\", \"total_counts\", \"pct_counts_mt\"],jitter=0.4,multi_panel=True)"
   ]
  },
  {
   "cell_type": "code",
   "execution_count": null,
   "metadata": {},
   "outputs": [],
   "source": [
    "#Scatter plots\n",
    "sc.pl.scatter(heart_global, x=\"total_counts\", y=\"pct_counts_mt\")\n",
    "sc.pl.scatter(heart_global, x=\"total_counts\", y=\"n_genes_by_counts\")"
   ]
  },
  {
   "cell_type": "code",
   "execution_count": null,
   "metadata": {},
   "outputs": [],
   "source": [
    "#Normalizing data matrix using CPM\n",
    "sc.pp.normalize_total(heart_global,target_sum=1e6)\n",
    "\n",
    "#Logarithmization of data\n",
    "sc.pp.log1p(heart_global,base=2)"
   ]
  },
  {
   "cell_type": "code",
   "execution_count": null,
   "metadata": {},
   "outputs": [],
   "source": [
    "#Identifying high variable genes\n",
    "sc.pp.highly_variable_genes(heart_global, min_mean=0.0125, max_mean=3, min_disp=0.5)\n",
    "sc.pl.highly_variable_genes(heart_global)"
   ]
  },
  {
   "cell_type": "code",
   "execution_count": null,
   "metadata": {},
   "outputs": [],
   "source": [
    "#Scaling data\n",
    "#Filtering or selecting columns (genes) based on the highly variable genes identified\n",
    "#heart_global = heart_global[:, heart_global.var.highly_variable]\n",
    "\n",
    "#Regression of data i.e., Removing batch effects based on criteria of interest\n",
    "#sc.pp.regress_out(heart_global, [\"n_counts\", \"pct_counts_mt\"])\n",
    "\n",
    "#Scaling gene expression to make it comparable across cells\n",
    "#sc.pp.scale(heart_global)\n",
    "\n",
    "#To view it\n",
    "heart_global"
   ]
  },
  {
   "cell_type": "code",
   "execution_count": null,
   "metadata": {},
   "outputs": [],
   "source": [
    "##PRINCIPAL COMPONENT ANALYSIS##\n",
    "\n",
    "#Reducing dimensions\n",
    "sc.tl.pca(heart_global, svd_solver=\"arpack\")\n",
    "\n",
    "#To view the principal components\n",
    "heart_global.obsm['X_pca']\n",
    "\n",
    "#Scatter plot for PCA components for visualization \n",
    "sc.pl.pca(heart_global)\n",
    "\n",
    "#Scatter plot for PCA components for visualization based on coloring of genes\n",
    "sc.pl.pca(heart_global,color= \"CST3\")"
   ]
  },
  {
   "cell_type": "code",
   "execution_count": null,
   "metadata": {},
   "outputs": [],
   "source": [
    "#Number of PCs to be considered for the data\n",
    "sc.tl.tsne(heart_global)\n",
    "\n",
    "#To know the values and count of Principal components\n",
    "heart_global.obsm['X_pca']"
   ]
  },
  {
   "cell_type": "code",
   "execution_count": null,
   "metadata": {},
   "outputs": [],
   "source": [
    "#Estimates of Principal components contribution to the total variance of the data\n",
    "sc.pl.pca_variance_ratio(heart_global, log=True)\n",
    "\n",
    "#Saving results\n",
    "heart_global.write(results_file)\n",
    "heart_global"
   ]
  },
  {
   "cell_type": "code",
   "execution_count": null,
   "metadata": {},
   "outputs": [],
   "source": [
    "#COMPUTING NEIGHBOUIRHOOD GRAPH#\n",
    "\n",
    "#General method\n",
    "sc.pp.neighbors(heart_global)\n",
    "heart_global\n",
    "#Can add n_neighbors and n_pca parameters if we would like to consider making clusters based on given params#"
   ]
  },
  {
   "cell_type": "code",
   "execution_count": null,
   "metadata": {},
   "outputs": [],
   "source": [
    "#Computing by bbknn - Batch balanced KNN\n",
    "\n",
    "bbknn_data = sc.external.pp.bbknn(heart_global, batch_key= 'cell_source')\n",
    "\n",
    "bbknn_data"
   ]
  },
  {
   "cell_type": "code",
   "execution_count": null,
   "metadata": {},
   "outputs": [],
   "source": [
    "#EMBEDDING THE NEIGHBOURHOOD GRAPH\n",
    "\n",
    "#Assinging cells to clusters\n",
    "sc.tl.louvain(heart_global)\n",
    "\n",
    "#Partioning data and identifying relationships between clusters\n",
    "sc.tl.paga(heart_global)\n",
    "sc.pl.paga(heart_global)\n",
    "\n",
    "#Data visualization\n",
    "sc.tl.umap(heart_global)\n",
    "\n",
    "#Giving colour codes for better visulauization based on genes\n",
    "sc.pl.umap(heart_global, color=[\"CST3\", \"NKG7\", \"PPBP\"])\n"
   ]
  },
  {
   "cell_type": "code",
   "execution_count": null,
   "metadata": {},
   "outputs": [],
   "source": [
    "##CLUSTERING NEIGHBORHOOD GRAPH#\n",
    "\n",
    "#Recommendded method Leiden graph-clustering method\n",
    "sc.tl.leiden(\n",
    "    heart_global,\n",
    "    resolution=0.9,\n",
    "    random_state=0,\n",
    "    n_iterations=2,\n",
    "    directed=False,\n",
    ")\n",
    "\n",
    "sc.pl.umap(heart_global, color=[\"leiden\"])\n",
    "\n",
    "#To see the cluster labels\n",
    "heart_global.obs['leiden']"
   ]
  },
  {
   "cell_type": "code",
   "execution_count": null,
   "metadata": {},
   "outputs": [],
   "source": [
    "#Saving file\n",
    "heart_global.write(results_file)"
   ]
  },
  {
   "cell_type": "code",
   "execution_count": null,
   "metadata": {},
   "outputs": [],
   "source": [
    "#FINDING MARKER GENES#\n",
    "\n",
    "#Ranking genes using t-test\n",
    "sc.tl.rank_genes_groups(heart_global, \"leiden\", method=\"t-test\")\n",
    "\n",
    "#Plotting \n",
    "sc.pl.rank_genes_groups(heart_global, n_genes=25, sharey=False)"
   ]
  },
  {
   "cell_type": "code",
   "execution_count": null,
   "metadata": {},
   "outputs": [],
   "source": [
    "#Ranking genes using wilcoxon method\n",
    "sc.tl.rank_genes_groups(heart_global, \"leiden\", method=\"wilcoxon\")\n",
    "\n",
    "#Plotting \n",
    "sc.pl.rank_genes_groups(heart_global, n_genes=25, sharey=False)\n",
    "\n",
    "#Saving data\n",
    "heart_global.write(results_file)"
   ]
  },
  {
   "cell_type": "code",
   "execution_count": null,
   "metadata": {},
   "outputs": [],
   "source": [
    "#Using logistic regression\n",
    "sc.tl.rank_genes_groups(heart_global, \"leiden\", method=\"logreg\", max_iter=1000)\n",
    "sc.pl.rank_genes_groups(heart_global, n_genes=25, sharey=False)"
   ]
  },
  {
   "cell_type": "code",
   "execution_count": null,
   "metadata": {},
   "outputs": [],
   "source": [
    "#To get list of gene names across clusters\n",
    "pd.DataFrame(heart_global.uns[\"rank_genes_groups\"][\"names\"])\n",
    "\n",
    "#Can add .head(10) at the end to give output of only 10 hits"
   ]
  },
  {
   "cell_type": "code",
   "execution_count": null,
   "metadata": {},
   "outputs": [],
   "source": [
    "#Getting table with scores and group\n",
    "heart_global = sc.read(results_file)\n",
    "result = heart_global.uns[\"rank_genes_groups\"]\n",
    "groups = result[\"names\"].dtype.names\n",
    "scores = pd.DataFrame(\n",
    "    {\n",
    "        group + \"_\" + key[:1]: result[key][group]\n",
    "        for group in groups\n",
    "        for key in [\"names\", \"pvals\"]\n",
    "    }\n",
    ").head(5)\n",
    "\n",
    "scores.write(\"/outputs/scores.csv\")\n",
    "#low p-value indicates that the gene is likely differentially expressed in that cluster compared to others"
   ]
  }
 ],
 "metadata": {
  "kernelspec": {
   "display_name": "scanpy",
   "language": "python",
   "name": "python3"
  },
  "language_info": {
   "codemirror_mode": {
    "name": "ipython",
    "version": 3
   },
   "file_extension": ".py",
   "mimetype": "text/x-python",
   "name": "python",
   "nbconvert_exporter": "python",
   "pygments_lexer": "ipython3",
   "version": "3.12.2"
  }
 },
 "nbformat": 4,
 "nbformat_minor": 2
}
