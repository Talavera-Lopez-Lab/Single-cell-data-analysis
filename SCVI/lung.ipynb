{
 "cells": [
  {
   "cell_type": "code",
   "execution_count": 1,
   "metadata": {},
   "outputs": [
    {
     "name": "stderr",
     "output_type": "stream",
     "text": [
      "/Users/srivalli/conda/envs/scvi-env/lib/python3.9/site-packages/tqdm/auto.py:21: TqdmWarning: IProgress not found. Please update jupyter and ipywidgets. See https://ipywidgets.readthedocs.io/en/stable/user_install.html\n",
      "  from .autonotebook import tqdm as notebook_tqdm\n"
     ]
    }
   ],
   "source": [
    "#All the following script and comments have been made in accordance to single cell  data ##\n",
    "\n",
    "#Importing packages # Make sure that you activate correct environment (conda activate scvi-env)\n",
    "import os\n",
    "import tempfile\n",
    "import scanpy as sc\n",
    "import scvi\n",
    "import seaborn as sns\n",
    "import torch\n",
    "from rich import print\n",
    "from scib_metrics.benchmark import Benchmarker\n",
    "\n",
    "output = './outputs'"
   ]
  },
  {
   "cell_type": "code",
   "execution_count": 2,
   "metadata": {},
   "outputs": [
    {
     "name": "stderr",
     "output_type": "stream",
     "text": [
      "/Users/srivalli/conda/envs/scvi-env/lib/python3.9/site-packages/anndata/__init__.py:51: FutureWarning: `anndata.read` is deprecated, use `anndata.read_h5ad` instead. `ad.read` will be removed in mid 2024.\n",
      "  warnings.warn(\n"
     ]
    },
    {
     "data": {
      "text/plain": [
       "AnnData object with n_obs × n_vars = 32472 × 15148\n",
       "    obs: 'dataset', 'location', 'nGene', 'nUMI', 'patientGroup', 'percent.mito', 'protocol', 'sanger_type', 'size_factors', 'sampling_method', 'batch', 'cell_type', 'donor'\n",
       "    layers: 'counts'"
      ]
     },
     "execution_count": 2,
     "metadata": {},
     "output_type": "execute_result"
    }
   ],
   "source": [
    "#Data loading and reading\n",
    "\n",
    "lungdata_path = os.path.join(\"./\", \"lung_atlas.h5ad\")\n",
    "\n",
    "lungdata= sc.read(\n",
    "    lungdata_path,\n",
    "    backup_url=\"https://figshare.com/ndownloader/files/24539942\",\n",
    ")\n",
    "lungdata"
   ]
  },
  {
   "cell_type": "code",
   "execution_count": 3,
   "metadata": {},
   "outputs": [
    {
     "name": "stderr",
     "output_type": "stream",
     "text": [
      "/Users/srivalli/conda/envs/scvi-env/lib/python3.9/site-packages/scanpy/preprocessing/_highly_variable_genes.py:64: UserWarning: `flavor='seurat_v3'` expects raw count data, but non-integers were found.\n",
      "  warnings.warn(\n"
     ]
    }
   ],
   "source": [
    "#DATA PREPROCESSING#\n",
    "\n",
    "#Data backup\n",
    "lungdata.raw = lungdata \n",
    "\n",
    "#Selecting high variable genes\n",
    "sc.pp.highly_variable_genes(\n",
    "    lungdata,\n",
    "    flavor=\"seurat_v3\",\n",
    "    n_top_genes=2000,\n",
    "    layer=\"counts\",\n",
    "    batch_key=\"batch\",\n",
    "    subset=True,\n",
    ")"
   ]
  },
  {
   "cell_type": "code",
   "execution_count": 4,
   "metadata": {},
   "outputs": [
    {
     "name": "stderr",
     "output_type": "stream",
     "text": [
      "/Users/srivalli/conda/envs/scvi-env/lib/python3.9/abc.py:119: FutureWarning: SparseDataset is deprecated and will be removed in late 2024. It has been replaced by the public classes CSRDataset and CSCDataset.\n",
      "\n",
      "For instance checks, use `isinstance(X, (anndata.experimental.CSRDataset, anndata.experimental.CSCDataset))` instead.\n",
      "\n",
      "For creation, use `anndata.experimental.sparse_dataset(X)` instead.\n",
      "\n",
      "  return _abc_instancecheck(cls, instance)\n",
      "/Users/srivalli/conda/envs/scvi-env/lib/python3.9/site-packages/scvi/data/fields/_base_field.py:64: UserWarning: adata.layers[counts] does not contain unnormalized count data. Are you sure this is what you want?\n",
      "  self.validate_field(adata)\n",
      "GPU available: True (mps), used: False\n",
      "TPU available: False, using: 0 TPU cores\n",
      "IPU available: False, using: 0 IPUs\n",
      "HPU available: False, using: 0 HPUs\n",
      "/Users/srivalli/conda/envs/scvi-env/lib/python3.9/site-packages/lightning/pytorch/trainer/setup.py:187: GPU available but not used. You can set it by doing `Trainer(accelerator='gpu')`.\n",
      "/Users/srivalli/conda/envs/scvi-env/lib/python3.9/site-packages/lightning/pytorch/trainer/connectors/data_connector.py:441: The 'train_dataloader' does not have many workers which may be a bottleneck. Consider increasing the value of the `num_workers` argument` to `num_workers=7` in the `DataLoader` to improve performance.\n"
     ]
    },
    {
     "name": "stdout",
     "output_type": "stream",
     "text": [
      "Epoch 246/246: 100%|██████████| 246/246 [27:56<00:00,  9.12s/it, v_num=1, train_loss_step=601, train_loss_epoch=552]"
     ]
    },
    {
     "name": "stderr",
     "output_type": "stream",
     "text": [
      "`Trainer.fit` stopped: `max_epochs=246` reached.\n"
     ]
    },
    {
     "name": "stdout",
     "output_type": "stream",
     "text": [
      "Epoch 246/246: 100%|██████████| 246/246 [27:56<00:00,  6.81s/it, v_num=1, train_loss_step=601, train_loss_epoch=552]\n"
     ]
    }
   ],
   "source": [
    "#INTEGRATION WITH SCVII#  Usually when annotated data isnt available or unable to help\n",
    "\n",
    "#Data labelling by finding common axes in data\n",
    "\n",
    "#Data setup according to SCVI model\n",
    "scvi.model.SCVI.setup_anndata(lungdata, layer=\"counts\", batch_key=\"batch\")\n",
    "\n",
    "#Setting up model with data\n",
    "model = scvi.model.SCVI(lungdata, n_layers=2, n_latent=30, gene_likelihood=\"nb\")\n",
    "\n",
    "#Training model\n",
    "model.train()"
   ]
  },
  {
   "cell_type": "code",
   "execution_count": 5,
   "metadata": {},
   "outputs": [],
   "source": [
    "#Evaluation of latent representation\n",
    "SCVI_LATENT_KEY = \"X_scVI\"\n",
    "\n",
    "#Adding latent rep data to anndata\n",
    "lungdata.obsm[SCVI_LATENT_KEY] = model.get_latent_representation()"
   ]
  },
  {
   "cell_type": "code",
   "execution_count": 6,
   "metadata": {},
   "outputs": [
    {
     "data": {
      "text/plain": [
       "AnnData object with n_obs × n_vars = 32472 × 2000\n",
       "    obs: 'dataset', 'location', 'nGene', 'nUMI', 'patientGroup', 'percent.mito', 'protocol', 'sanger_type', 'size_factors', 'sampling_method', 'batch', 'cell_type', 'donor', '_scvi_batch', '_scvi_labels'\n",
       "    var: 'highly_variable', 'highly_variable_rank', 'means', 'variances', 'variances_norm', 'highly_variable_nbatches'\n",
       "    uns: 'hvg', '_scvi_uuid', '_scvi_manager_uuid'\n",
       "    obsm: 'X_scVI'\n",
       "    layers: 'counts'"
      ]
     },
     "execution_count": 6,
     "metadata": {},
     "output_type": "execute_result"
    }
   ],
   "source": [
    "#Clustering data to view in SCVI latent space\n",
    "#sc.pp.neighbors(lungdata, use_rep=SCVI_LATENT_KEY)\n",
    "#sc.tl.leiden(lungdata,omp_set_max_active_levels = 5)\n",
    "lungdata"
   ]
  },
  {
   "cell_type": "code",
   "execution_count": 7,
   "metadata": {},
   "outputs": [
    {
     "name": "stdout",
     "output_type": "stream",
     "text": [
      "\u001b[34mINFO    \u001b[0m Using cpu for `pymde.preserve_neighbors`.                                                                 \n"
     ]
    },
    {
     "name": "stderr",
     "output_type": "stream",
     "text": [
      "OMP: Info #276: omp_set_nested routine deprecated, please use omp_set_max_active_levels instead.\n"
     ]
    }
   ],
   "source": [
    "#Data visualization \n",
    "\n",
    "#Alternate to UMAP\n",
    "SCVI_MDE_KEY = \"X_scVI_MDE\"\n",
    "\n",
    "#Data preperation\n",
    "lungdata.obsm[SCVI_MDE_KEY] = scvi.model.utils.mde(lungdata.obsm[SCVI_LATENT_KEY])\n",
    "\n",
    "#Plotting\n",
    "sc.pl.embedding(\n",
    "    lungdata,\n",
    "    basis=SCVI_MDE_KEY,\n",
    "    color=[\"batch\"],\n",
    "    frameon=False,\n",
    "    ncols=1,\n",
    ")"
   ]
  },
  {
   "cell_type": "code",
   "execution_count": null,
   "metadata": {},
   "outputs": [],
   "source": [
    "#Data visualization based on annotated data\n",
    "sc.pl.embedding(lungdata, basis=SCVI_MDE_KEY, color=[\"cell_type\"], frameon=False, ncols=1)"
   ]
  },
  {
   "cell_type": "code",
   "execution_count": null,
   "metadata": {},
   "outputs": [],
   "source": [
    "#INTEGRATION WITH scANVI # Usually ehen annotated data is available giving whole information\n",
    "\n",
    "#We specify keys for both interested obs and info of unlablled data also\n",
    "scanvi_model = scvi.model.SCANVI.from_scvi_model(\n",
    "    model,\n",
    "    lungdata=lungdata,\n",
    "    labels_key=\"cell_type\",\n",
    "    unlabeled_category=\"Unknown\",\n",
    ")"
   ]
  },
  {
   "cell_type": "code",
   "execution_count": null,
   "metadata": {},
   "outputs": [],
   "source": [
    "#Model training\n",
    "scanvi_model.train(max_epochs=20, n_samples_per_label=100)"
   ]
  },
  {
   "cell_type": "code",
   "execution_count": null,
   "metadata": {},
   "outputs": [],
   "source": [
    "#Data visualization \n",
    "\n",
    "#Alternate to UMAP\n",
    "SCANVI_LATENT_KEY = \"X_scANVI\"\n",
    "lungdata.obsm[SCANVI_LATENT_KEY] = scanvi_model.get_latent_representation(lungdata)\n",
    "\n",
    "#Plotting\n",
    "sc.pl.embedding(\n",
    "    lungdata, basis=SCANVI_LATENT_KEY, color=[\"cell_type\"], ncols=1, frameon=False\n",
    ")"
   ]
  },
  {
   "cell_type": "code",
   "execution_count": null,
   "metadata": {},
   "outputs": [],
   "source": [
    "#Data viewing for additional components added\n",
    "lungdata"
   ]
  },
  {
   "cell_type": "code",
   "execution_count": null,
   "metadata": {},
   "outputs": [],
   "source": [
    "#COMPUTING INTEGRATION METRICS#\n",
    "\n",
    "#Selecting metrics for plotting\n",
    "bm = Benchmarker(\n",
    "    lungdata,\n",
    "    batch_key=\"batch\",\n",
    "    label_key=\"cell_type\",\n",
    "    embedding_obsm_keys=[\"X_pca\", SCVI_LATENT_KEY, SCANVI_LATENT_KEY],\n",
    "    n_jobs=-1,\n",
    ")\n",
    "\n",
    "#Viewing metrics\n",
    "bm.benchmark()\n",
    "\n",
    "#Plotting results in table\n",
    "bm.plot_results_table(min_max_scale=False)\n",
    "\n",
    "#Saving results as dataframe\n",
    "df = bm.get_results(min_max_scale=False)\n",
    "print(df)\n",
    "\n",
    "#Saving as file\n",
    "df.write(output)"
   ]
  }
 ],
 "metadata": {
  "kernelspec": {
   "display_name": "scvi-env",
   "language": "python",
   "name": "python3"
  },
  "language_info": {
   "codemirror_mode": {
    "name": "ipython",
    "version": 3
   },
   "file_extension": ".py",
   "mimetype": "text/x-python",
   "name": "python",
   "nbconvert_exporter": "python",
   "pygments_lexer": "ipython3",
   "version": "3.9.18"
  }
 },
 "nbformat": 4,
 "nbformat_minor": 2
}
