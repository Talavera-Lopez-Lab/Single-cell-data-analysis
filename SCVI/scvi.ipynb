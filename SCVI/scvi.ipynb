{
 "cells": [
  {
   "cell_type": "code",
   "execution_count": 1,
   "metadata": {},
   "outputs": [
    {
     "name": "stderr",
     "output_type": "stream",
     "text": [
      "/Users/srivalli/conda/envs/scvi-env/lib/python3.9/site-packages/tqdm/auto.py:21: TqdmWarning: IProgress not found. Please update jupyter and ipywidgets. See https://ipywidgets.readthedocs.io/en/stable/user_install.html\n",
      "  from .autonotebook import tqdm as notebook_tqdm\n",
      "Seed set to 0\n"
     ]
    }
   ],
   "source": [
    "#All the following script and comments have been made in accordance to single cell  data ##\n",
    "\n",
    "#Importing packages # Make sure that you activate correct environment\n",
    "import os\n",
    "import tempfile\n",
    "import scanpy as sc\n",
    "import scvi\n",
    "import seaborn as sns\n",
    "import torch\n",
    "\n",
    "scvi.settings.seed = 0\n",
    "\n",
    "sc.set_figure_params(figsize=(6, 6), frameon=False)\n",
    "sns.set_theme()\n",
    "torch.set_float32_matmul_precision(\"high\")\n",
    "save_dir = \"/Users/srivalli/Desktop/SCA-Uni/Single-cell-data-analysis/SCVI/outputs\""
   ]
  },
  {
   "cell_type": "code",
   "execution_count": 2,
   "metadata": {},
   "outputs": [],
   "source": [
    "#LOADING AND DATA PREPERATION#\n",
    "adata = sc.read_h5ad('./hca_heart_immune_download.h5ad')\n",
    "adata\n",
    "\n",
    "#Data filtration\n",
    "sc.pp.filter_genes(adata, min_counts=3)\n",
    "\n",
    "#Data normalizartion by adding counts and storing in raw for backup\n",
    "adata.layers[\"counts\"] = adata.X.copy()  \n",
    "sc.pp.normalize_total(adata, target_sum=1e6) #1000000 genes per cell\n",
    "sc.pp.log1p(adata)\n",
    "adata.raw = adata "
   ]
  },
  {
   "cell_type": "code",
   "execution_count": 3,
   "metadata": {},
   "outputs": [],
   "source": [
    "#Feature selection i.e., Highly Variable Genes selection\n",
    "sc.pp.highly_variable_genes(\n",
    "    adata,\n",
    "    n_top_genes=1200,\n",
    "    subset=True,\n",
    "    layer=\"counts\",\n",
    "    flavor=\"seurat_v3\",\n",
    "    batch_key=\"cell_source\",\n",
    ")"
   ]
  },
  {
   "cell_type": "code",
   "execution_count": 4,
   "metadata": {},
   "outputs": [
    {
     "name": "stderr",
     "output_type": "stream",
     "text": [
      "/Users/srivalli/conda/envs/scvi-env/lib/python3.9/abc.py:119: FutureWarning: SparseDataset is deprecated and will be removed in late 2024. It has been replaced by the public classes CSRDataset and CSCDataset.\n",
      "\n",
      "For instance checks, use `isinstance(X, (anndata.experimental.CSRDataset, anndata.experimental.CSCDataset))` instead.\n",
      "\n",
      "For creation, use `anndata.experimental.sparse_dataset(X)` instead.\n",
      "\n",
      "  return _abc_instancecheck(cls, instance)\n"
     ]
    }
   ],
   "source": [
    "#Annotating data \n",
    "\n",
    "scvi.model.SCVI.setup_anndata(\n",
    "    adata,\n",
    "    layer=\"counts\",\n",
    "    categorical_covariate_keys=[\"cell_source\", \"donor\"],\n",
    "    continuous_covariate_keys=[\"percent_mito\", \"percent_ribo\"],\n",
    ")"
   ]
  },
  {
   "cell_type": "code",
   "execution_count": 5,
   "metadata": {},
   "outputs": [
    {
     "name": "stderr",
     "output_type": "stream",
     "text": [
      "GPU available: True (mps), used: False\n",
      "TPU available: False, using: 0 TPU cores\n",
      "IPU available: False, using: 0 IPUs\n",
      "HPU available: False, using: 0 HPUs\n",
      "/Users/srivalli/conda/envs/scvi-env/lib/python3.9/site-packages/lightning/pytorch/trainer/setup.py:187: GPU available but not used. You can set it by doing `Trainer(accelerator='gpu')`.\n",
      "/Users/srivalli/conda/envs/scvi-env/lib/python3.9/site-packages/lightning/pytorch/trainer/connectors/data_connector.py:441: The 'train_dataloader' does not have many workers which may be a bottleneck. Consider increasing the value of the `num_workers` argument` to `num_workers=7` in the `DataLoader` to improve performance.\n"
     ]
    },
    {
     "name": "stdout",
     "output_type": "stream",
     "text": [
      "Epoch 29/196:  14%|█▍        | 28/196 [01:58<12:08,  4.34s/it, v_num=1, train_loss_step=309, train_loss_epoch=293]"
     ]
    }
   ],
   "source": [
    "##CREATING AND TRAINING MODEL##\n",
    "\n",
    "#Creating model\n",
    "model = scvi.model.SCVI(adata)\n",
    "model\n",
    "\n",
    "#Training\n",
    "model.train()"
   ]
  },
  {
   "cell_type": "code",
   "execution_count": null,
   "metadata": {},
   "outputs": [
    {
     "name": "stdout",
     "output_type": "stream",
     "text": [
      "\u001b[34mINFO    \u001b[0m File \u001b[35m/Users/srivalli/Desktop/SCA-Uni/Single-cell-data-analysis/SCVI/outputs/scvi_model/\u001b[0m\u001b[95mmodel.pt\u001b[0m already   \n",
      "         downloaded                                                                                                \n"
     ]
    },
    {
     "name": "stderr",
     "output_type": "stream",
     "text": [
      "/Users/srivalli/conda/envs/scvi-env/lib/python3.9/abc.py:119: FutureWarning: SparseDataset is deprecated and will be removed in late 2024. It has been replaced by the public classes CSRDataset and CSCDataset.\n",
      "\n",
      "For instance checks, use `isinstance(X, (anndata.experimental.CSRDataset, anndata.experimental.CSCDataset))` instead.\n",
      "\n",
      "For creation, use `anndata.experimental.sparse_dataset(X)` instead.\n",
      "\n",
      "  return _abc_instancecheck(cls, instance)\n"
     ]
    }
   ],
   "source": [
    "#Saving model\n",
    "model_dir = os.path.join(save_dir, \"scvi_model\")\n",
    "model.save(model_dir, overwrite=True)\n",
    "\n",
    "#Loading model\n",
    "model = scvi.model.SCVI.load(model_dir, adata=adata)"
   ]
  },
  {
   "cell_type": "code",
   "execution_count": null,
   "metadata": {},
   "outputs": [
    {
     "data": {
      "text/plain": [
       "(40868, 10)"
      ]
     },
     "execution_count": 9,
     "metadata": {},
     "output_type": "execute_result"
    }
   ],
   "source": [
    "##OBTAINING MODEL OUTPUTS##\n",
    "\n",
    "#Storing outputs of scvi to anndata\n",
    "SCVI_LATENT_KEY = \"X_scVI\"\n",
    "\n",
    "latent = model.get_latent_representation()\n",
    "adata.obsm[SCVI_LATENT_KEY] = latent\n",
    "latent.shape"
   ]
  },
  {
   "cell_type": "code",
   "execution_count": null,
   "metadata": {},
   "outputs": [
    {
     "name": "stdout",
     "output_type": "stream",
     "text": [
      "\u001b[34mINFO    \u001b[0m Received view of anndata, making copy.                                                                    \n",
      "\u001b[34mINFO    \u001b[0m Input AnnData not setup with scvi-tools. attempting to transfer AnnData setup                             \n"
     ]
    },
    {
     "data": {
      "text/plain": [
       "(40868, 10)"
      ]
     },
     "execution_count": 10,
     "metadata": {},
     "output_type": "execute_result"
    }
   ],
   "source": [
    "#Subsetting data based on celltype\n",
    "adata_subset = adata[adata.obs.scNym == \"CD4+T_cell\"]\n",
    "latent_subset = model.get_latent_representation(adata_subset)\n",
    "latent.shape"
   ]
  },
  {
   "cell_type": "code",
   "execution_count": null,
   "metadata": {},
   "outputs": [],
   "source": [
    "#Obtaining normalized expression values\n",
    "denoised = model.get_normalized_expression(adata_subset, library_size=1e6)\n",
    "denoised.iloc[:5, :5]\n",
    "\n",
    "#Storing back normalized values back to anndata in a key\n",
    "SCVI_NORMALIZED_KEY = \"scvi_normalized\"\n",
    "adata.layers[SCVI_NORMALIZED_KEY] = model.get_normalized_expression(library_size=1e6)"
   ]
  },
  {
   "cell_type": "code",
   "execution_count": null,
   "metadata": {},
   "outputs": [
    {
     "name": "stderr",
     "output_type": "stream",
     "text": [
      "OMP: Info #276: omp_set_nested routine deprecated, please use omp_set_max_active_levels instead.\n"
     ]
    }
   ],
   "source": [
    "##INTEROPERABOILITY WITH SCANPY##\n",
    "\n",
    "#Visualization without batch correction\n",
    "\n",
    "# Dimensionality reduction and UMAP generation\n",
    "sc.tl.pca(adata)\n",
    "sc.pp.neighbors(adata, n_pcs=30, n_neighbors=20)\n",
    "sc.tl.umap(adata, min_dist=0.3)\n",
    "\n",
    "#Only cell type\n",
    "sc.pl.umap(\n",
    "    adata,\n",
    "    color=[\"cell_source\"],\n",
    "    frameon=False,\n",
    ")\n",
    "\n",
    "#Mapping based on cell source and donor\n",
    "sc.pl.umap(\n",
    "    adata,\n",
    "    color=[\"donor\", \"cell_source\"],\n",
    "    ncols=2,\n",
    "    frameon=False,\n",
    ")\n"
   ]
  },
  {
   "cell_type": "code",
   "execution_count": null,
   "metadata": {},
   "outputs": [],
   "source": [
    "#Clustering on the scVI latent space\n",
    "\n",
    "# Loading neighbors calculated by scvi\n",
    "SCVI_CLUSTERS_KEY = \"leiden_scVI\"\n",
    "sc.tl.leiden(adata, key_added=SCVI_CLUSTERS_KEY, resolution=0.5)\n",
    "\n",
    "sc.pl.umap(\n",
    "    adata,\n",
    "    color=[SCVI_CLUSTERS_KEY],\n",
    "    frameon=False,\n",
    ")"
   ]
  },
  {
   "cell_type": "code",
   "execution_count": null,
   "metadata": {},
   "outputs": [],
   "source": [
    "##DIFFERENTIAL EXPRESSION##\n",
    "\n",
    "#Getting headers  of cell types\n",
    "adata.obs.cell_source.head()\n",
    "\n",
    "#Differential expression of 1 vs 1\n",
    "de_df = model.differential_expression(\n",
    "    groupby=\"cell_source\", group1=\"Harvard-Nuclei\", group2=\"Sanger-CD45\"\n",
    ")\n",
    "de_df.head()"
   ]
  },
  {
   "cell_type": "code",
   "execution_count": null,
   "metadata": {},
   "outputs": [],
   "source": [
    "#Differential expression of 1 vs all\n",
    "de_df = model.differential_expression(\n",
    "    groupby=\"cell_source\",\n",
    ")\n",
    "de_df.head()"
   ]
  },
  {
   "cell_type": "code",
   "execution_count": null,
   "metadata": {},
   "outputs": [],
   "source": [
    "#Extracting top markers for each cluster\n",
    "markers = {}\n",
    "cats = adata.obs.cell_source.cat.categories\n",
    "for i, c in enumerate(cats):\n",
    "    cid = f\"{c} vs Rest\"\n",
    "    cell_source_df = de_df.loc[de_df.comparison == cid]\n",
    "\n",
    "    cell_source_df = cell_source_df[cell_source_df.lfc_mean > 0]\n",
    "\n",
    "    cell_source_df = cell_source_df[cell_source_df[\"bayes_factor\"] > 3]\n",
    "    cell_source_df = cell_source_df[cell_source_df[\"non_zeros_proportion1\"] > 0.1]\n",
    "\n",
    "    markers[c] = cell_source_df.index.tolist()[:3]\n",
    "\n",
    "#Dendogram\n",
    "sc.tl.dendrogram(adata, groupby=\"cell_source\", use_rep=\"X_scVI\")\n",
    "\n",
    "#Dot plot\n",
    "sc.pl.dotplot(\n",
    "    adata,\n",
    "    markers,\n",
    "    groupby=\"cell_source\",\n",
    "    dendrogram=True,\n",
    "    color_map=\"Blues\",\n",
    "    swap_axes=True,\n",
    "    use_raw=True,\n",
    "    standard_scale=\"var\",\n",
    ")"
   ]
  },
  {
   "cell_type": "code",
   "execution_count": null,
   "metadata": {},
   "outputs": [],
   "source": [
    "#Heatmap visualization with normalized values as layers\n",
    "sc.pl.heatmap(\n",
    "    adata,\n",
    "    markers,\n",
    "    groupby=\"cell_source\",\n",
    "    layer=\"scvi_normalized\",\n",
    "    standard_scale=\"var\",\n",
    "    dendrogram=True,\n",
    "    figsize=(8, 12),\n",
    ")"
   ]
  }
 ],
 "metadata": {
  "kernelspec": {
   "display_name": "scvi-env",
   "language": "python",
   "name": "python3"
  },
  "language_info": {
   "codemirror_mode": {
    "name": "ipython",
    "version": 3
   },
   "file_extension": ".py",
   "mimetype": "text/x-python",
   "name": "python",
   "nbconvert_exporter": "python",
   "pygments_lexer": "ipython3",
   "version": "3.9.18"
  }
 },
 "nbformat": 4,
 "nbformat_minor": 2
}
